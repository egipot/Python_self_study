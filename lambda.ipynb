{
  "nbformat": 4,
  "nbformat_minor": 0,
  "metadata": {
    "colab": {
      "provenance": [],
      "authorship_tag": "ABX9TyMOX3L0TB7rkkl0vJzNFZBN",
      "include_colab_link": true
    },
    "kernelspec": {
      "name": "python3",
      "display_name": "Python 3"
    },
    "language_info": {
      "name": "python"
    }
  },
  "cells": [
    {
      "cell_type": "markdown",
      "metadata": {
        "id": "view-in-github",
        "colab_type": "text"
      },
      "source": [
        "<a href=\"https://colab.research.google.com/github/egipot/Python_self_study/blob/main/lambda.ipynb\" target=\"_parent\"><img src=\"https://colab.research.google.com/assets/colab-badge.svg\" alt=\"Open In Colab\"/></a>"
      ]
    },
    {
      "cell_type": "markdown",
      "source": [
        "**PYTHON LAMBDA**\n",
        "\n",
        "*Syntax: *\n",
        "lambda arguments : expression"
      ],
      "metadata": {
        "id": "PEU-M4TZRW7P"
      }
    },
    {
      "cell_type": "code",
      "execution_count": 10,
      "metadata": {
        "colab": {
          "base_uri": "https://localhost:8080/"
        },
        "id": "n3CX-T5RRMlJ",
        "outputId": "222c285a-9d97-4050-8736-808daa42a238"
      },
      "outputs": [
        {
          "output_type": "stream",
          "name": "stdout",
          "text": [
            "<function <lambda> at 0x79e6a5633d90>\n",
            "Even number\n"
          ]
        }
      ],
      "source": [
        "#https://www.geeksforgeeks.org/python-lambda/?ref=lbp\n",
        "\n",
        "#Lambda function that returns if a number is even or odd\n",
        "\n",
        "#num = int(input(\"Enter a number: \"))\n",
        "calc = lambda num: \"Even number\" if num % 2 == 0 else  \"Odd number\"\n",
        "\n",
        "print(calc)\n",
        "#<function <lambda> at 0x79e6a5633be0>\n",
        "#Explanation: In this above example, the lambda is not being called by the print function, but simply returning the function object and the memory location where it is stored.\n",
        "#So, to make the print to print the string first, we need to call the lambda so that the string will get pass the print.\n",
        "\n",
        "print(calc(10))\n",
        "#function 'calc' is called first, then"
      ]
    },
    {
      "cell_type": "markdown",
      "source": [
        "\n",
        "\n",
        "---\n",
        "See the difference between the next codes:\n"
      ],
      "metadata": {
        "id": "H64cj_t9Ugkd"
      }
    },
    {
      "cell_type": "code",
      "source": [
        "x = 5\n",
        "y = 4\n",
        "lambda x, y: x+y"
      ],
      "metadata": {
        "colab": {
          "base_uri": "https://localhost:8080/"
        },
        "id": "KLiVu39ZUYdh",
        "outputId": "9133bf3a-00e2-4274-9e7e-38b998614872"
      },
      "execution_count": 16,
      "outputs": [
        {
          "output_type": "execute_result",
          "data": {
            "text/plain": [
              "<function __main__.<lambda>(x, y)>"
            ]
          },
          "metadata": {},
          "execution_count": 16
        }
      ]
    },
    {
      "cell_type": "code",
      "source": [
        "#x = 5\n",
        "#y = 4\n",
        "(lambda x, y: x+y)(5,4)\n",
        "\n",
        "\n"
      ],
      "metadata": {
        "colab": {
          "base_uri": "https://localhost:8080/"
        },
        "id": "WOnAWcchSkrp",
        "outputId": "c8438426-81dd-4464-b774-d9764e40b8a9"
      },
      "execution_count": 17,
      "outputs": [
        {
          "output_type": "execute_result",
          "data": {
            "text/plain": [
              "9"
            ]
          },
          "metadata": {},
          "execution_count": 17
        }
      ]
    },
    {
      "cell_type": "markdown",
      "source": [
        "\n",
        "\n",
        "---\n",
        "\n",
        "returning string using lambda, notice the difference too:"
      ],
      "metadata": {
        "id": "TnxJIgrEUlhq"
      }
    },
    {
      "cell_type": "code",
      "source": [
        "string = 'GeeksforGeeks'\n",
        "\n",
        "# lambda returns a function object\n",
        "print(lambda string: string)"
      ],
      "metadata": {
        "colab": {
          "base_uri": "https://localhost:8080/"
        },
        "id": "5UDO_SA2S1Py",
        "outputId": "833df6d0-bf70-4a3e-8aa1-f3d02cf548d1"
      },
      "execution_count": 19,
      "outputs": [
        {
          "output_type": "stream",
          "name": "stdout",
          "text": [
            "<function <lambda> at 0x79e6a57c88b0>\n"
          ]
        }
      ]
    },
    {
      "cell_type": "code",
      "source": [
        "(lambda string:string) ('GeeksforGeeks')"
      ],
      "metadata": {
        "colab": {
          "base_uri": "https://localhost:8080/",
          "height": 35
        },
        "id": "T9BAFKE2UtN3",
        "outputId": "bec9e020-9966-4035-b7bc-6a971a8a7dce"
      },
      "execution_count": 18,
      "outputs": [
        {
          "output_type": "execute_result",
          "data": {
            "text/plain": [
              "'GeeksforGeeks'"
            ],
            "application/vnd.google.colaboratory.intrinsic+json": {
              "type": "string"
            }
          },
          "metadata": {},
          "execution_count": 18
        }
      ]
    },
    {
      "cell_type": "markdown",
      "source": [
        "\n",
        "\n",
        "---\n",
        "Reduction is a lambda calculus strategy to compute the value of the expression. In the current example, it consists of replacing the bound variable x with the argument \"num\":\n"
      ],
      "metadata": {
        "id": "OdrirxXKVDWz"
      }
    },
    {
      "cell_type": "code",
      "source": [
        "#https://realpython.com/python-lambda/\n",
        "\n",
        "num = 50\n",
        "(lambda x : x + 1)(num)\n",
        "\n",
        "#num is passed as the value of x"
      ],
      "metadata": {
        "colab": {
          "base_uri": "https://localhost:8080/"
        },
        "id": "oJVr27NzVCr2",
        "outputId": "96c636fb-3832-48a9-9286-53f8e278554e"
      },
      "execution_count": 23,
      "outputs": [
        {
          "output_type": "execute_result",
          "data": {
            "text/plain": [
              "51"
            ]
          },
          "metadata": {},
          "execution_count": 23
        }
      ]
    },
    {
      "cell_type": "markdown",
      "source": [
        "\n",
        "\n",
        "---\n",
        "\n",
        "\n",
        "OTHER EXAMPLES:\n",
        "\n",
        "---\n",
        "\n"
      ],
      "metadata": {
        "id": "j6A1n_KyV6Nf"
      }
    },
    {
      "cell_type": "code",
      "source": [
        "#Finding cube of number\n",
        "#comparing function vs lambda implementation\n",
        "\n",
        "#simple function implementation:\n",
        "def cube(y):\n",
        "  print(f\"finding the cube of a number: {y}\")\n",
        "  return y*y*y\n",
        "\n",
        "#lambda implementation:\n",
        "lambda_cube = lambda num : num ** 3\n",
        "\n",
        "\n",
        "#invoking the simple function \"cube\"\n",
        "print(cube(30))\n",
        "\n",
        "#invoking the lambda_cube function\n",
        "print(lambda_cube(30))\n"
      ],
      "metadata": {
        "colab": {
          "base_uri": "https://localhost:8080/"
        },
        "id": "G4g7MC5gWAT6",
        "outputId": "0ebce3e1-0d6c-4142-9b49-6614f2eaeb34"
      },
      "execution_count": 24,
      "outputs": [
        {
          "output_type": "stream",
          "name": "stdout",
          "text": [
            "finding the cube of a number: 30\n",
            "27000\n",
            "27000\n"
          ]
        }
      ]
    },
    {
      "cell_type": "code",
      "source": [
        "#Lambda used inside the functions\n",
        "\n",
        "num_list = ['3', '5', '9', '-1', '-4', '10', '-7', '8', '0']\n",
        "char_list = ['a', 'G', 'k', 'q', 'W', 'b', 'c', 'A', 'B', 'C', 'S']\n",
        "\n",
        "print('Sorted numerically: ', sorted(num_list, key = lambda x: int(x)))\n",
        "print(\"Notice the difference in this simple sorted code that has wrong output: \", sorted(num_list), \"--> where the negative value was not taken into account.\")\n",
        "\n",
        "print('\\nSorted alphabetically: ', sorted(char_list, key = lambda y: (len(y), y)))\n",
        "print('Sorted alphabetically: ', sorted(char_list, key = lambda y: (len(y), y), reverse=True))\n",
        "#a = sorted(a, key = lambda x:(len(x),x))\n",
        "#Breakdown:\n",
        "#  sorted func accepts the character list \"char_list\" and the key value that is defined by the lambda function. SYNTAX: sorted(iterable, key=key, reverse=reverse)\n",
        "#  key = lambda y:(char1,char2,char3,char4,...,charN),\n",
        "#  y is one element at a time from the stream of input.\n",
        "#  (char1,char2,char3,char4,...,charN being properties based on which the stream of elements needs to be sorted.\n",
        "#  based on priority order of p1>p2>p3>...>pn.\n",
        "#  We can also add reverse=True, after the sorting condition, to sort the elements in reverse order.\n",
        "\n",
        "\n",
        "#https://stackoverflow.com/questions/3766633/how-to-sort-with-lambda-in-python\n"
      ],
      "metadata": {
        "colab": {
          "base_uri": "https://localhost:8080/"
        },
        "id": "my7M5GNXaVFV",
        "outputId": "580738f0-2043-4f08-9fc1-f5ebc957461d"
      },
      "execution_count": 44,
      "outputs": [
        {
          "output_type": "stream",
          "name": "stdout",
          "text": [
            "Sorted numerically:  ['-7', '-4', '-1', '0', '3', '5', '8', '9', '10']\n",
            "Notice the difference in this simple sorted code that has wrong output:  ['-1', '-4', '-7', '0', '10', '3', '5', '8', '9'] --> where the negative value was not taken into account.\n",
            "\n",
            "Sorted alphabetically:  ['A', 'B', 'C', 'G', 'S', 'W', 'a', 'b', 'c', 'k', 'q']\n",
            "Sorted alphabetically:  ['q', 'k', 'c', 'b', 'a', 'W', 'S', 'G', 'C', 'B', 'A']\n"
          ]
        }
      ]
    },
    {
      "cell_type": "code",
      "source": [
        "#For characters, simple sorted is enough\n",
        "\n",
        "a = [\"tim\", \"bob\", \"anna\", \"steve\", \"john\",\"aaaa\"]\n",
        "a1 = sorted(a, key = lambda x:x)\n",
        "print(a1)\n",
        "\n",
        "a2 = sorted(a)\n",
        "print(a2)"
      ],
      "metadata": {
        "colab": {
          "base_uri": "https://localhost:8080/"
        },
        "id": "JF1jGwzXhseI",
        "outputId": "714d39c8-2bb2-4c18-fc2e-e6a1a8069118"
      },
      "execution_count": 39,
      "outputs": [
        {
          "output_type": "stream",
          "name": "stdout",
          "text": [
            "['aaaa', 'anna', 'bob', 'john', 'steve', 'tim']\n",
            "['aaaa', 'anna', 'bob', 'john', 'steve', 'tim']\n"
          ]
        }
      ]
    },
    {
      "cell_type": "code",
      "source": [
        "#https://stackoverflow.com/questions/3766633/how-to-sort-with-lambda-in-python\n",
        "\n",
        "a = [[1,4],[2,5],[3,1],[1,6],[3,8],[4,9],[0,3],[2,6],[9,5]]\n",
        "a = sorted(a, key = lambda x:(-x[1],x[0]))\n",
        "print(a)\n",
        "\n"
      ],
      "metadata": {
        "colab": {
          "base_uri": "https://localhost:8080/"
        },
        "id": "lPxKy3KcmuIr",
        "outputId": "aedede0e-4614-456b-ee8f-e2e333623d95"
      },
      "execution_count": 46,
      "outputs": [
        {
          "output_type": "stream",
          "name": "stdout",
          "text": [
            "[[4, 9], [3, 8], [1, 6], [2, 6], [2, 5], [9, 5], [1, 4], [0, 3], [3, 1]]\n"
          ]
        }
      ]
    },
    {
      "cell_type": "code",
      "source": [
        "#https://www.geeksforgeeks.org/python-lambda/?ref=lbp\n",
        "\n",
        "#filter the negative even numbers using filter () and lambda function\n",
        "\n",
        "num_list = ['3', '5', '9', '-1', '-4', '10', '-7', '8', '0', '-2', '-12']\n",
        "print(\"Filtered out negative and even numbers\", list(filter(lambda x: not (int(x) % 2 == 0 and int(x)<0),num_list )))\n",
        "print(\"Print only negative and even numbers\", list(filter(lambda x: (int(x) % 2 == 0 and int(x)<0),num_list )))"
      ],
      "metadata": {
        "colab": {
          "base_uri": "https://localhost:8080/"
        },
        "id": "Z_dF36NmnLby",
        "outputId": "7594f049-282b-4207-b269-cb3b49802165"
      },
      "execution_count": 51,
      "outputs": [
        {
          "output_type": "stream",
          "name": "stdout",
          "text": [
            "Filtered out negative and even numbers ['3', '5', '9', '-1', '10', '-7', '8', '0']\n",
            "Print only negative and even numbers ['-4', '-2', '-12']\n"
          ]
        }
      ]
    },
    {
      "cell_type": "code",
      "source": [
        "#https://www.geeksforgeeks.org/python-lambda/?ref=lbp\n",
        "\n",
        "#add 10 to each item and cast into int, then convert to string again\n",
        "print(\"Operation on each item using lambda and map()\", list (map (lambda x: str(int(x) + 10), num_list)))\n",
        "\n"
      ],
      "metadata": {
        "colab": {
          "base_uri": "https://localhost:8080/"
        },
        "id": "BN6c_iOAovTP",
        "outputId": "fe5258e7-65bb-420b-d247-ab5d81a766bc"
      },
      "execution_count": 52,
      "outputs": [
        {
          "output_type": "stream",
          "name": "stdout",
          "text": [
            "Operation on each item using lambda and map() ['13', '15', '19', '9', '6', '20', '3', '18', '10', '8', '-2']\n"
          ]
        }
      ]
    }
  ]
}